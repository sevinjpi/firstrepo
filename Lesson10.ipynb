{
 "cells": [
  {
   "cell_type": "code",
   "execution_count": 1,
   "id": "81bf08fc-9d8e-426c-82d9-3e554f5ea073",
   "metadata": {},
   "outputs": [],
   "source": [
    "import pandas as pd\n",
    "import numpy as np"
   ]
  },
  {
   "cell_type": "code",
   "execution_count": 23,
   "id": "e52ec526-7305-4d52-b7ed-de508b89ac56",
   "metadata": {},
   "outputs": [],
   "source": [
    "data  = [[1,\"Applied Mathematics and Cybernetics\",\"700\"],[2,\"Information Technology\",\"500\"],[3,\"Chemistry\",\"300\"],[4,\"Physics\",\"200\"]]"
   ]
  },
  {
   "cell_type": "code",
   "execution_count": 33,
   "id": "26c5e464-d6a4-4b4c-8631-4e967bb9d312",
   "metadata": {},
   "outputs": [],
   "source": [
    "DF1= pd.DataFrame(data=data,columns = [\"ID\",\"Faculty\",\"STUDENT COUNT\"])"
   ]
  },
  {
   "cell_type": "code",
   "execution_count": 34,
   "id": "5b857a37-1184-4b4f-b631-92ad75a303e9",
   "metadata": {},
   "outputs": [
    {
     "data": {
      "text/html": [
       "<div>\n",
       "<style scoped>\n",
       "    .dataframe tbody tr th:only-of-type {\n",
       "        vertical-align: middle;\n",
       "    }\n",
       "\n",
       "    .dataframe tbody tr th {\n",
       "        vertical-align: top;\n",
       "    }\n",
       "\n",
       "    .dataframe thead th {\n",
       "        text-align: right;\n",
       "    }\n",
       "</style>\n",
       "<table border=\"1\" class=\"dataframe\">\n",
       "  <thead>\n",
       "    <tr style=\"text-align: right;\">\n",
       "      <th></th>\n",
       "      <th>ID</th>\n",
       "      <th>Faculty</th>\n",
       "      <th>STUDENT COUNT</th>\n",
       "    </tr>\n",
       "  </thead>\n",
       "  <tbody>\n",
       "    <tr>\n",
       "      <th>0</th>\n",
       "      <td>1</td>\n",
       "      <td>Applied Mathematics and Cybernetics</td>\n",
       "      <td>700</td>\n",
       "    </tr>\n",
       "    <tr>\n",
       "      <th>1</th>\n",
       "      <td>2</td>\n",
       "      <td>Information Technology</td>\n",
       "      <td>500</td>\n",
       "    </tr>\n",
       "    <tr>\n",
       "      <th>2</th>\n",
       "      <td>3</td>\n",
       "      <td>Chemistry</td>\n",
       "      <td>300</td>\n",
       "    </tr>\n",
       "    <tr>\n",
       "      <th>3</th>\n",
       "      <td>4</td>\n",
       "      <td>Physics</td>\n",
       "      <td>200</td>\n",
       "    </tr>\n",
       "  </tbody>\n",
       "</table>\n",
       "</div>"
      ],
      "text/plain": [
       "   ID                              Faculty STUDENT COUNT\n",
       "0   1  Applied Mathematics and Cybernetics           700\n",
       "1   2               Information Technology           500\n",
       "2   3                            Chemistry           300\n",
       "3   4                              Physics           200"
      ]
     },
     "execution_count": 34,
     "metadata": {},
     "output_type": "execute_result"
    }
   ],
   "source": [
    "DF1"
   ]
  },
  {
   "cell_type": "code",
   "execution_count": 35,
   "id": "77da176f-cb74-4ec1-8f5f-fee3771a7fc2",
   "metadata": {},
   "outputs": [],
   "source": [
    "data2 = [[\"65\",\"Computer Science\",\"Applied Mathematics and Cybernetics\"],[\"66\",\"Artificial Intelligence\",\"Information Technology\"],[\"45\",\"Chemisty teacher\",\"Chemistry\"],[\"34a\",\"Physics teacher\",\"Physics\"]]"
   ]
  },
  {
   "cell_type": "code",
   "execution_count": 36,
   "id": "e31fb7df-cdb2-4195-b4cd-ef0f5de1bc73",
   "metadata": {},
   "outputs": [],
   "source": [
    "DF2= pd.DataFrame(data=data2,columns = [\"Speciality_id\",\"Speciality\",\"Faculty\"])"
   ]
  },
  {
   "cell_type": "code",
   "execution_count": 37,
   "id": "3b8db4cc-5f1f-4b04-a9e1-86b7181bdc89",
   "metadata": {},
   "outputs": [
    {
     "data": {
      "text/html": [
       "<div>\n",
       "<style scoped>\n",
       "    .dataframe tbody tr th:only-of-type {\n",
       "        vertical-align: middle;\n",
       "    }\n",
       "\n",
       "    .dataframe tbody tr th {\n",
       "        vertical-align: top;\n",
       "    }\n",
       "\n",
       "    .dataframe thead th {\n",
       "        text-align: right;\n",
       "    }\n",
       "</style>\n",
       "<table border=\"1\" class=\"dataframe\">\n",
       "  <thead>\n",
       "    <tr style=\"text-align: right;\">\n",
       "      <th></th>\n",
       "      <th>Speciality_id</th>\n",
       "      <th>Speciality</th>\n",
       "      <th>Faculty</th>\n",
       "    </tr>\n",
       "  </thead>\n",
       "  <tbody>\n",
       "    <tr>\n",
       "      <th>0</th>\n",
       "      <td>65</td>\n",
       "      <td>Computer Science</td>\n",
       "      <td>Applied Mathematics and Cybernetics</td>\n",
       "    </tr>\n",
       "    <tr>\n",
       "      <th>1</th>\n",
       "      <td>66</td>\n",
       "      <td>Artificial Intelligence</td>\n",
       "      <td>Information Technology</td>\n",
       "    </tr>\n",
       "    <tr>\n",
       "      <th>2</th>\n",
       "      <td>45</td>\n",
       "      <td>Chemisty teacher</td>\n",
       "      <td>Chemistry</td>\n",
       "    </tr>\n",
       "    <tr>\n",
       "      <th>3</th>\n",
       "      <td>34a</td>\n",
       "      <td>Physics teacher</td>\n",
       "      <td>Physics</td>\n",
       "    </tr>\n",
       "  </tbody>\n",
       "</table>\n",
       "</div>"
      ],
      "text/plain": [
       "  Speciality_id               Speciality                              Faculty\n",
       "0            65         Computer Science  Applied Mathematics and Cybernetics\n",
       "1            66  Artificial Intelligence               Information Technology\n",
       "2            45         Chemisty teacher                            Chemistry\n",
       "3           34a          Physics teacher                              Physics"
      ]
     },
     "execution_count": 37,
     "metadata": {},
     "output_type": "execute_result"
    }
   ],
   "source": [
    "DF2"
   ]
  },
  {
   "cell_type": "code",
   "execution_count": 38,
   "id": "aa873682-073f-4459-b2cd-3dc900c00d3c",
   "metadata": {},
   "outputs": [
    {
     "data": {
      "text/html": [
       "<div>\n",
       "<style scoped>\n",
       "    .dataframe tbody tr th:only-of-type {\n",
       "        vertical-align: middle;\n",
       "    }\n",
       "\n",
       "    .dataframe tbody tr th {\n",
       "        vertical-align: top;\n",
       "    }\n",
       "\n",
       "    .dataframe thead th {\n",
       "        text-align: right;\n",
       "    }\n",
       "</style>\n",
       "<table border=\"1\" class=\"dataframe\">\n",
       "  <thead>\n",
       "    <tr style=\"text-align: right;\">\n",
       "      <th></th>\n",
       "      <th>ID</th>\n",
       "      <th>Faculty</th>\n",
       "      <th>STUDENT COUNT</th>\n",
       "      <th>Speciality_id</th>\n",
       "      <th>Speciality</th>\n",
       "    </tr>\n",
       "  </thead>\n",
       "  <tbody>\n",
       "    <tr>\n",
       "      <th>0</th>\n",
       "      <td>1</td>\n",
       "      <td>Applied Mathematics and Cybernetics</td>\n",
       "      <td>700</td>\n",
       "      <td>65</td>\n",
       "      <td>Computer Science</td>\n",
       "    </tr>\n",
       "    <tr>\n",
       "      <th>1</th>\n",
       "      <td>2</td>\n",
       "      <td>Information Technology</td>\n",
       "      <td>500</td>\n",
       "      <td>66</td>\n",
       "      <td>Artificial Intelligence</td>\n",
       "    </tr>\n",
       "    <tr>\n",
       "      <th>2</th>\n",
       "      <td>3</td>\n",
       "      <td>Chemistry</td>\n",
       "      <td>300</td>\n",
       "      <td>45</td>\n",
       "      <td>Chemisty teacher</td>\n",
       "    </tr>\n",
       "    <tr>\n",
       "      <th>3</th>\n",
       "      <td>4</td>\n",
       "      <td>Physics</td>\n",
       "      <td>200</td>\n",
       "      <td>34a</td>\n",
       "      <td>Physics teacher</td>\n",
       "    </tr>\n",
       "  </tbody>\n",
       "</table>\n",
       "</div>"
      ],
      "text/plain": [
       "   ID                              Faculty STUDENT COUNT Speciality_id  \\\n",
       "0   1  Applied Mathematics and Cybernetics           700            65   \n",
       "1   2               Information Technology           500            66   \n",
       "2   3                            Chemistry           300            45   \n",
       "3   4                              Physics           200           34a   \n",
       "\n",
       "                Speciality  \n",
       "0         Computer Science  \n",
       "1  Artificial Intelligence  \n",
       "2         Chemisty teacher  \n",
       "3          Physics teacher  "
      ]
     },
     "execution_count": 38,
     "metadata": {},
     "output_type": "execute_result"
    }
   ],
   "source": [
    "DF1.merge(DF2,how=\"left\",on=[\"Faculty\"])"
   ]
  },
  {
   "cell_type": "code",
   "execution_count": null,
   "id": "57528c44-2460-46a7-ae79-d908cbf81bf7",
   "metadata": {},
   "outputs": [],
   "source": []
  }
 ],
 "metadata": {
  "kernelspec": {
   "display_name": "Python 3 (ipykernel)",
   "language": "python",
   "name": "python3"
  },
  "language_info": {
   "codemirror_mode": {
    "name": "ipython",
    "version": 3
   },
   "file_extension": ".py",
   "mimetype": "text/x-python",
   "name": "python",
   "nbconvert_exporter": "python",
   "pygments_lexer": "ipython3",
   "version": "3.11.8"
  }
 },
 "nbformat": 4,
 "nbformat_minor": 5
}
